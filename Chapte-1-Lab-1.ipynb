{
 "cells": [
  {
   "cell_type": "markdown",
   "id": "915076ef-820e-4615-ae38-8e85261e6332",
   "metadata": {},
   "source": [
    "# A. IMPORTATION DES LIBRAIRIES"
   ]
  },
  {
   "cell_type": "code",
   "execution_count": 1,
   "id": "a1ce60b3-d7c0-456c-9a08-be526492c856",
   "metadata": {
    "tags": []
   },
   "outputs": [],
   "source": [
    "import numpy as np"
   ]
  },
  {
   "cell_type": "markdown",
   "id": "8fcbdb2c-05ae-4b67-9086-e145aa871589",
   "metadata": {},
   "source": [
    "## 1.1 Tableau a 1 D"
   ]
  },
  {
   "cell_type": "code",
   "execution_count": 2,
   "id": "0ce48276-d6fb-4ddf-86a5-af52736abc30",
   "metadata": {
    "tags": []
   },
   "outputs": [],
   "source": [
    "#creation d'un tableau a 1 D\n",
    "tab_1D = np.array([2,4,6,8,10,12,14])"
   ]
  },
  {
   "cell_type": "code",
   "execution_count": 3,
   "id": "389b72b6-a847-44e4-a837-b934c52db37a",
   "metadata": {
    "tags": []
   },
   "outputs": [
    {
     "name": "stdout",
     "output_type": "stream",
     "text": [
      "Dimension de tableau (7,)\n",
      "type du tableau <class 'numpy.ndarray'>\n",
      "[ 2  4  6  8 10 12 14]\n"
     ]
    }
   ],
   "source": [
    "print(\"Dimension de tableau\", tab_1D.shape)\n",
    "print(\"type du tableau\", type(tab_1D))\n",
    "print(tab_1D)"
   ]
  },
  {
   "cell_type": "markdown",
   "id": "424aa5e7-91be-418a-910d-db82d0eaaab8",
   "metadata": {},
   "source": [
    "## 1.2 Tableau a 2 D"
   ]
  },
  {
   "cell_type": "code",
   "execution_count": 4,
   "id": "b77c043a-f447-440c-8b07-92470624d0a6",
   "metadata": {
    "tags": []
   },
   "outputs": [],
   "source": [
    "# creation d'un tableau a 2D\n",
    "tab_2D = np.array([\n",
    "    [1,3,5,7,8],\n",
    "    [11,33,55,77,88],\n",
    "    [93,72,58,13,81],\n",
    "])    "
   ]
  },
  {
   "cell_type": "code",
   "execution_count": 10,
   "id": "6c6a419f-1e99-4049-ab52-fc4a872a2c13",
   "metadata": {
    "tags": []
   },
   "outputs": [
    {
     "name": "stdout",
     "output_type": "stream",
     "text": [
      "Dimension de tableau (3, 5)\n",
      "type du tableau <class 'numpy.ndarray'>\n",
      "[[ 1  3  5  7  8]\n",
      " [11 33 55 77 88]\n",
      " [93 72 58 13 81]]\n"
     ]
    }
   ],
   "source": [
    "print(\"Dimension de tableau\", tab_2D.shape)\n",
    "print(\"type du tableau\", type(tab_2D))\n",
    "print(tab_2D)"
   ]
  },
  {
   "cell_type": "markdown",
   "id": "e012d51b-1a84-4030-85b7-d55e8c9c652e",
   "metadata": {},
   "source": [
    "## 1.3 Tableau a 3 D"
   ]
  },
  {
   "cell_type": "code",
   "execution_count": 11,
   "id": "e57f021e-81f4-44e5-8ca5-aea2592c7376",
   "metadata": {
    "tags": []
   },
   "outputs": [],
   "source": [
    "# creation d'un tableau 3D\n",
    "tab_3D = np.array([[\n",
    "    [9,7,5,3,1],\n",
    "    [22,55,89,63,31],\n",
    "    [94,75,59,23,81]\n",
    "]])"
   ]
  },
  {
   "cell_type": "code",
   "execution_count": 12,
   "id": "a2a7fa53-8395-44a2-905e-a789e3806760",
   "metadata": {
    "tags": []
   },
   "outputs": [
    {
     "name": "stdout",
     "output_type": "stream",
     "text": [
      "Dimension de tableau (1, 3, 5)\n",
      "type du tableau <class 'numpy.ndarray'>\n",
      "[[[ 9  7  5  3  1]\n",
      "  [22 55 89 63 31]\n",
      "  [94 75 59 23 81]]]\n"
     ]
    }
   ],
   "source": [
    "print(\"Dimension de tableau\", tab_3D.shape)\n",
    "print(\"type du tableau\", type(tab_3D))\n",
    "print(tab_3D)"
   ]
  },
  {
   "cell_type": "markdown",
   "id": "675867a3-a5dc-4e3c-8de2-e771669c0043",
   "metadata": {},
   "source": [
    "## 1.4 Tableau a 4 D"
   ]
  },
  {
   "cell_type": "code",
   "execution_count": 8,
   "id": "bed30d74-dd0f-4ebf-b9e8-abb8e0f5ffcc",
   "metadata": {},
   "outputs": [],
   "source": [
    "# creation d'un tableau 4D\n",
    "tab_4D = np.array([[[\n",
    "    [9,7,5,3,1],\n",
    "    [23,66,75,33,81],\n",
    "    [91,67,15,83,41],\n",
    "]]])"
   ]
  },
  {
   "cell_type": "code",
   "execution_count": 9,
   "id": "c91da9fc-8d62-4bb4-9adb-def06fa10b8d",
   "metadata": {
    "tags": []
   },
   "outputs": [
    {
     "name": "stdout",
     "output_type": "stream",
     "text": [
      "Dimension de tableau (1, 1, 3, 5)\n",
      "type du tableau <class 'numpy.ndarray'>\n",
      "[[[[ 9  7  5  3  1]\n",
      "   [23 66 75 33 81]\n",
      "   [91 67 15 83 41]]]]\n"
     ]
    }
   ],
   "source": [
    "print(\"Dimension de tableau\", tab_4D.shape)\n",
    "print(\"type du tableau\", type(tab_4D))\n",
    "print(tab_4D)"
   ]
  },
  {
   "cell_type": "markdown",
   "id": "69339d25-dc2d-4830-a2a5-7e04bd5da532",
   "metadata": {},
   "source": [
    "# B. OPERATIONS"
   ]
  },
  {
   "cell_type": "code",
   "execution_count": 18,
   "id": "a1747e67-be4a-4ad4-8292-6b0f7acab3ce",
   "metadata": {},
   "outputs": [],
   "source": [
    "a = np. array ([\n",
    "    [2, 4, 6, 8],\n",
    "    [25, 45, 65, 85],\n",
    "               ])\n",
    "b = np. array ([\n",
    "    [20, 40, 60, 80],\n",
    "    [250, 450, 650, 850],\n",
    "               ])\n"
   ]
  },
  {
   "cell_type": "code",
   "execution_count": 19,
   "id": "ec50e789-fb88-432e-b867-6fd1558f74bb",
   "metadata": {},
   "outputs": [
    {
     "name": "stdout",
     "output_type": "stream",
     "text": [
      "(2, 4)\n",
      "[[ 2  4  6  8]\n",
      " [25 45 65 85]]\n",
      "(2, 4)\n",
      "[[ 20  40  60  80]\n",
      " [250 450 650 850]]\n"
     ]
    }
   ],
   "source": [
    "print (a.shape)\n",
    "print(a)\n",
    "print(b.shape)\n",
    "print(b)"
   ]
  },
  {
   "cell_type": "code",
   "execution_count": 20,
   "id": "d7429c08-b054-436c-a87b-b3cdca4a404b",
   "metadata": {},
   "outputs": [
    {
     "data": {
      "text/plain": [
       "array([[ 22,  44,  66,  88],\n",
       "       [275, 495, 715, 935]])"
      ]
     },
     "execution_count": 20,
     "metadata": {},
     "output_type": "execute_result"
    }
   ],
   "source": [
    "# addition\n",
    "a+b"
   ]
  },
  {
   "cell_type": "code",
   "execution_count": 21,
   "id": "12ed058a-fe3e-4b9d-a40a-d285f6bb6623",
   "metadata": {},
   "outputs": [
    {
     "data": {
      "text/plain": [
       "array([[ -18,  -36,  -54,  -72],\n",
       "       [-225, -405, -585, -765]])"
      ]
     },
     "execution_count": 21,
     "metadata": {},
     "output_type": "execute_result"
    }
   ],
   "source": [
    "# soustraction\n",
    "a-b"
   ]
  },
  {
   "cell_type": "code",
   "execution_count": 22,
   "id": "0f4d2ee5-7ca3-414e-8fe6-c5bde1f83736",
   "metadata": {},
   "outputs": [
    {
     "data": {
      "text/plain": [
       "array([[   40,   160,   360,   640],\n",
       "       [ 6250, 20250, 42250, 72250]])"
      ]
     },
     "execution_count": 22,
     "metadata": {},
     "output_type": "execute_result"
    }
   ],
   "source": [
    "# multiplication\n",
    "a*b"
   ]
  },
  {
   "cell_type": "code",
   "execution_count": 23,
   "id": "f37a1a3e-18d4-427b-bcb3-6eb21af1dcc3",
   "metadata": {},
   "outputs": [
    {
     "data": {
      "text/plain": [
       "array([[0.1, 0.1, 0.1, 0.1],\n",
       "       [0.1, 0.1, 0.1, 0.1]])"
      ]
     },
     "execution_count": 23,
     "metadata": {},
     "output_type": "execute_result"
    }
   ],
   "source": [
    "# division\n",
    "a/b"
   ]
  },
  {
   "cell_type": "markdown",
   "id": "598c71b0-41ab-4cf4-b66e-4dda7d88cab3",
   "metadata": {},
   "source": [
    "# C. MANIPULATION DES DONNEES "
   ]
  },
  {
   "cell_type": "code",
   "execution_count": 31,
   "id": "1274dc71-a6c1-4e6f-a87c-63da27bb9838",
   "metadata": {},
   "outputs": [],
   "source": [
    "# creation d'un dictionnaire\n",
    "info_etudiants = {\n",
    "    'Matricule' : '2022020056',\n",
    "    'Nom' : 'MWANZA',\n",
    "    'Prenom' : 'jean paul',\n",
    "    'Age' : 23,\n",
    "    'GPA' : 'A'\n",
    "    \n",
    "}"
   ]
  },
  {
   "cell_type": "code",
   "execution_count": 32,
   "id": "b087b0a3-1850-4cb3-acf3-0e96df6b3fed",
   "metadata": {},
   "outputs": [
    {
     "data": {
      "text/plain": [
       "{'Matricule': '2022020056',\n",
       " 'Nom': 'MWANZA',\n",
       " 'Prenom': 'jean paul',\n",
       " 'Age': 23,\n",
       " 'GPA': 'A'}"
      ]
     },
     "execution_count": 32,
     "metadata": {},
     "output_type": "execute_result"
    }
   ],
   "source": [
    "info_etudiants"
   ]
  },
  {
   "cell_type": "code",
   "execution_count": 38,
   "id": "7c124d35-c344-4057-8437-4eb8f82bf65b",
   "metadata": {},
   "outputs": [],
   "source": [
    "# creation d'un dictionnaire\n",
    "info_etudians_bac3_gl_ia= {\n",
    "    'Matricule' : ['2022020056', '2022020057', '2022020058', '2022020059', '2022020060', '2022020061', '2022020062', '2022020063', '2022020063', '2022020064'],\n",
    "    'Nom' : ['MWANZA',  'KIMBA',  'KASONGO',  'ILUNGA',  'MARIE',  'TUMBA',  'KASAJI',  'MANYONGA',  'MWETSHENU',  'MWANDA'],\n",
    "    'Prenom' : ['jean paul', 'paul', 'phil', 'theo', 'marie', 'plamedie', 'laure', 'tantine', 'grace', 'marline'],\n",
    "    'Age' : [23,  25,  20,  23, 24, 21,  22,  20,  21,  23],\n",
    "    'GPA' : ['A', 'B', 'C', 'A', 'C', 'A', 'A', 'C', 'B', 'A',]\n",
    "}"
   ]
  },
  {
   "cell_type": "code",
   "execution_count": 39,
   "id": "53153358-2d2d-43f9-95c1-b97b591e936d",
   "metadata": {},
   "outputs": [
    {
     "data": {
      "text/plain": [
       "{'Matricule': ['2022020056',\n",
       "  '2022020057',\n",
       "  '2022020058',\n",
       "  '2022020059',\n",
       "  '2022020060',\n",
       "  '2022020061',\n",
       "  '2022020062',\n",
       "  '2022020063',\n",
       "  '2022020063',\n",
       "  '2022020064'],\n",
       " 'Nom': ['MWANZA',\n",
       "  'KIMBA',\n",
       "  'KASONGO',\n",
       "  'ILUNGA',\n",
       "  'MARIE',\n",
       "  'TUMBA',\n",
       "  'KASAJI',\n",
       "  'MANYONGA',\n",
       "  'MWETSHENU',\n",
       "  'MWANDA'],\n",
       " 'Prenom': ['jean paul',\n",
       "  'paul',\n",
       "  'phil',\n",
       "  'theo',\n",
       "  'marie',\n",
       "  'plamedie',\n",
       "  'laure',\n",
       "  'tantine',\n",
       "  'grace',\n",
       "  'marline'],\n",
       " 'Age': [23, 25, 20, 23, 24, 21, 22, 20, 21, 23],\n",
       " 'GPA': ['A', 'B', 'C', 'A', 'C', 'A', 'A', 'C', 'B', 'A']}"
      ]
     },
     "execution_count": 39,
     "metadata": {},
     "output_type": "execute_result"
    }
   ],
   "source": [
    "info_etudians_bac3_gl_ia"
   ]
  },
  {
   "cell_type": "code",
   "execution_count": 40,
   "id": "7693d7e3-e3bd-423c-bcdb-912848959f57",
   "metadata": {},
   "outputs": [
    {
     "name": "stdout",
     "output_type": "stream",
     "text": [
      "{'Matricule': ['2022020056', '2022020057', '2022020058', '2022020059', '2022020060', '2022020061', '2022020062', '2022020063', '2022020063', '2022020064'], 'Nom': ['MWANZA', 'KIMBA', 'KASONGO', 'ILUNGA', 'MARIE', 'TUMBA', 'KASAJI', 'MANYONGA', 'MWETSHENU', 'MWANDA'], 'Prenom': ['jean paul', 'paul', 'phil', 'theo', 'marie', 'plamedie', 'laure', 'tantine', 'grace', 'marline'], 'Age': [23, 25, 20, 23, 24, 21, 22, 20, 21, 23], 'GPA': ['A', 'B', 'C', 'A', 'C', 'A', 'A', 'C', 'B', 'A']}\n"
     ]
    }
   ],
   "source": [
    "print(info_etudians_bac3_gl_ia)"
   ]
  },
  {
   "cell_type": "code",
   "execution_count": 41,
   "id": "d89d97ae-8baa-4f5e-9045-095bb256be03",
   "metadata": {},
   "outputs": [],
   "source": [
    "#importer pandas\n",
    "import pandas as pd"
   ]
  },
  {
   "cell_type": "code",
   "execution_count": 48,
   "id": "7ee4b64c-706c-4783-abd5-9b46e9cec490",
   "metadata": {},
   "outputs": [],
   "source": [
    "donnees_etudiants = pd. DataFrame(info_etudians_bac3_gl_ia)"
   ]
  },
  {
   "cell_type": "code",
   "execution_count": 49,
   "id": "5980a275-75ad-4cd3-aaf0-ec56223a4282",
   "metadata": {},
   "outputs": [
    {
     "data": {
      "text/html": [
       "<div>\n",
       "<style scoped>\n",
       "    .dataframe tbody tr th:only-of-type {\n",
       "        vertical-align: middle;\n",
       "    }\n",
       "\n",
       "    .dataframe tbody tr th {\n",
       "        vertical-align: top;\n",
       "    }\n",
       "\n",
       "    .dataframe thead th {\n",
       "        text-align: right;\n",
       "    }\n",
       "</style>\n",
       "<table border=\"1\" class=\"dataframe\">\n",
       "  <thead>\n",
       "    <tr style=\"text-align: right;\">\n",
       "      <th></th>\n",
       "      <th>Matricule</th>\n",
       "      <th>Nom</th>\n",
       "      <th>Prenom</th>\n",
       "      <th>Age</th>\n",
       "      <th>GPA</th>\n",
       "    </tr>\n",
       "  </thead>\n",
       "  <tbody>\n",
       "    <tr>\n",
       "      <th>0</th>\n",
       "      <td>2022020056</td>\n",
       "      <td>MWANZA</td>\n",
       "      <td>jean paul</td>\n",
       "      <td>23</td>\n",
       "      <td>A</td>\n",
       "    </tr>\n",
       "    <tr>\n",
       "      <th>1</th>\n",
       "      <td>2022020057</td>\n",
       "      <td>KIMBA</td>\n",
       "      <td>paul</td>\n",
       "      <td>25</td>\n",
       "      <td>B</td>\n",
       "    </tr>\n",
       "    <tr>\n",
       "      <th>2</th>\n",
       "      <td>2022020058</td>\n",
       "      <td>KASONGO</td>\n",
       "      <td>phil</td>\n",
       "      <td>20</td>\n",
       "      <td>C</td>\n",
       "    </tr>\n",
       "    <tr>\n",
       "      <th>3</th>\n",
       "      <td>2022020059</td>\n",
       "      <td>ILUNGA</td>\n",
       "      <td>theo</td>\n",
       "      <td>23</td>\n",
       "      <td>A</td>\n",
       "    </tr>\n",
       "    <tr>\n",
       "      <th>4</th>\n",
       "      <td>2022020060</td>\n",
       "      <td>MARIE</td>\n",
       "      <td>marie</td>\n",
       "      <td>24</td>\n",
       "      <td>C</td>\n",
       "    </tr>\n",
       "    <tr>\n",
       "      <th>5</th>\n",
       "      <td>2022020061</td>\n",
       "      <td>TUMBA</td>\n",
       "      <td>plamedie</td>\n",
       "      <td>21</td>\n",
       "      <td>A</td>\n",
       "    </tr>\n",
       "    <tr>\n",
       "      <th>6</th>\n",
       "      <td>2022020062</td>\n",
       "      <td>KASAJI</td>\n",
       "      <td>laure</td>\n",
       "      <td>22</td>\n",
       "      <td>A</td>\n",
       "    </tr>\n",
       "    <tr>\n",
       "      <th>7</th>\n",
       "      <td>2022020063</td>\n",
       "      <td>MANYONGA</td>\n",
       "      <td>tantine</td>\n",
       "      <td>20</td>\n",
       "      <td>C</td>\n",
       "    </tr>\n",
       "    <tr>\n",
       "      <th>8</th>\n",
       "      <td>2022020063</td>\n",
       "      <td>MWETSHENU</td>\n",
       "      <td>grace</td>\n",
       "      <td>21</td>\n",
       "      <td>B</td>\n",
       "    </tr>\n",
       "    <tr>\n",
       "      <th>9</th>\n",
       "      <td>2022020064</td>\n",
       "      <td>MWANDA</td>\n",
       "      <td>marline</td>\n",
       "      <td>23</td>\n",
       "      <td>A</td>\n",
       "    </tr>\n",
       "  </tbody>\n",
       "</table>\n",
       "</div>"
      ],
      "text/plain": [
       "    Matricule        Nom     Prenom  Age GPA\n",
       "0  2022020056     MWANZA  jean paul   23   A\n",
       "1  2022020057      KIMBA       paul   25   B\n",
       "2  2022020058    KASONGO       phil   20   C\n",
       "3  2022020059     ILUNGA       theo   23   A\n",
       "4  2022020060      MARIE      marie   24   C\n",
       "5  2022020061      TUMBA   plamedie   21   A\n",
       "6  2022020062     KASAJI      laure   22   A\n",
       "7  2022020063   MANYONGA    tantine   20   C\n",
       "8  2022020063  MWETSHENU      grace   21   B\n",
       "9  2022020064     MWANDA    marline   23   A"
      ]
     },
     "execution_count": 49,
     "metadata": {},
     "output_type": "execute_result"
    }
   ],
   "source": [
    "donnees_etudiants"
   ]
  },
  {
   "cell_type": "code",
   "execution_count": 54,
   "id": "3e94d470-6054-4f20-986a-6cfb75bbda1c",
   "metadata": {},
   "outputs": [
    {
     "data": {
      "text/html": [
       "<div>\n",
       "<style scoped>\n",
       "    .dataframe tbody tr th:only-of-type {\n",
       "        vertical-align: middle;\n",
       "    }\n",
       "\n",
       "    .dataframe tbody tr th {\n",
       "        vertical-align: top;\n",
       "    }\n",
       "\n",
       "    .dataframe thead th {\n",
       "        text-align: right;\n",
       "    }\n",
       "</style>\n",
       "<table border=\"1\" class=\"dataframe\">\n",
       "  <thead>\n",
       "    <tr style=\"text-align: right;\">\n",
       "      <th></th>\n",
       "      <th>Matricule</th>\n",
       "      <th>Nom</th>\n",
       "      <th>Prenom</th>\n",
       "      <th>Age</th>\n",
       "      <th>GPA</th>\n",
       "    </tr>\n",
       "  </thead>\n",
       "  <tbody>\n",
       "    <tr>\n",
       "      <th>0</th>\n",
       "      <td>2022020056</td>\n",
       "      <td>MWANZA</td>\n",
       "      <td>jean paul</td>\n",
       "      <td>23</td>\n",
       "      <td>A</td>\n",
       "    </tr>\n",
       "    <tr>\n",
       "      <th>1</th>\n",
       "      <td>2022020057</td>\n",
       "      <td>KIMBA</td>\n",
       "      <td>paul</td>\n",
       "      <td>25</td>\n",
       "      <td>B</td>\n",
       "    </tr>\n",
       "    <tr>\n",
       "      <th>2</th>\n",
       "      <td>2022020058</td>\n",
       "      <td>KASONGO</td>\n",
       "      <td>phil</td>\n",
       "      <td>20</td>\n",
       "      <td>C</td>\n",
       "    </tr>\n",
       "  </tbody>\n",
       "</table>\n",
       "</div>"
      ],
      "text/plain": [
       "    Matricule      Nom     Prenom  Age GPA\n",
       "0  2022020056   MWANZA  jean paul   23   A\n",
       "1  2022020057    KIMBA       paul   25   B\n",
       "2  2022020058  KASONGO       phil   20   C"
      ]
     },
     "execution_count": 54,
     "metadata": {},
     "output_type": "execute_result"
    }
   ],
   "source": [
    "donnees_etudiants.head(3)"
   ]
  },
  {
   "cell_type": "code",
   "execution_count": 56,
   "id": "c9a2018b-1b38-4c45-a649-f89ad60e0c2a",
   "metadata": {},
   "outputs": [
    {
     "data": {
      "text/plain": [
       "0    2022020056\n",
       "1    2022020057\n",
       "2    2022020058\n",
       "3    2022020059\n",
       "4    2022020060\n",
       "5    2022020061\n",
       "6    2022020062\n",
       "7    2022020063\n",
       "8    2022020063\n",
       "9    2022020064\n",
       "Name: Matricule, dtype: object"
      ]
     },
     "execution_count": 56,
     "metadata": {},
     "output_type": "execute_result"
    }
   ],
   "source": [
    "donnees_etudiants['Matricule']"
   ]
  },
  {
   "cell_type": "code",
   "execution_count": 61,
   "id": "6bba77c8-681a-4d8e-adca-bff85a0f0732",
   "metadata": {},
   "outputs": [
    {
     "data": {
      "text/html": [
       "<div>\n",
       "<style scoped>\n",
       "    .dataframe tbody tr th:only-of-type {\n",
       "        vertical-align: middle;\n",
       "    }\n",
       "\n",
       "    .dataframe tbody tr th {\n",
       "        vertical-align: top;\n",
       "    }\n",
       "\n",
       "    .dataframe thead th {\n",
       "        text-align: right;\n",
       "    }\n",
       "</style>\n",
       "<table border=\"1\" class=\"dataframe\">\n",
       "  <thead>\n",
       "    <tr style=\"text-align: right;\">\n",
       "      <th></th>\n",
       "      <th>Matricule</th>\n",
       "      <th>Nom</th>\n",
       "    </tr>\n",
       "  </thead>\n",
       "  <tbody>\n",
       "    <tr>\n",
       "      <th>0</th>\n",
       "      <td>2022020056</td>\n",
       "      <td>MWANZA</td>\n",
       "    </tr>\n",
       "    <tr>\n",
       "      <th>1</th>\n",
       "      <td>2022020057</td>\n",
       "      <td>KIMBA</td>\n",
       "    </tr>\n",
       "    <tr>\n",
       "      <th>2</th>\n",
       "      <td>2022020058</td>\n",
       "      <td>KASONGO</td>\n",
       "    </tr>\n",
       "    <tr>\n",
       "      <th>3</th>\n",
       "      <td>2022020059</td>\n",
       "      <td>ILUNGA</td>\n",
       "    </tr>\n",
       "    <tr>\n",
       "      <th>4</th>\n",
       "      <td>2022020060</td>\n",
       "      <td>MARIE</td>\n",
       "    </tr>\n",
       "    <tr>\n",
       "      <th>5</th>\n",
       "      <td>2022020061</td>\n",
       "      <td>TUMBA</td>\n",
       "    </tr>\n",
       "    <tr>\n",
       "      <th>6</th>\n",
       "      <td>2022020062</td>\n",
       "      <td>KASAJI</td>\n",
       "    </tr>\n",
       "    <tr>\n",
       "      <th>7</th>\n",
       "      <td>2022020063</td>\n",
       "      <td>MANYONGA</td>\n",
       "    </tr>\n",
       "    <tr>\n",
       "      <th>8</th>\n",
       "      <td>2022020063</td>\n",
       "      <td>MWETSHENU</td>\n",
       "    </tr>\n",
       "    <tr>\n",
       "      <th>9</th>\n",
       "      <td>2022020064</td>\n",
       "      <td>MWANDA</td>\n",
       "    </tr>\n",
       "  </tbody>\n",
       "</table>\n",
       "</div>"
      ],
      "text/plain": [
       "    Matricule        Nom\n",
       "0  2022020056     MWANZA\n",
       "1  2022020057      KIMBA\n",
       "2  2022020058    KASONGO\n",
       "3  2022020059     ILUNGA\n",
       "4  2022020060      MARIE\n",
       "5  2022020061      TUMBA\n",
       "6  2022020062     KASAJI\n",
       "7  2022020063   MANYONGA\n",
       "8  2022020063  MWETSHENU\n",
       "9  2022020064     MWANDA"
      ]
     },
     "execution_count": 61,
     "metadata": {},
     "output_type": "execute_result"
    }
   ],
   "source": [
    "donnees_etudiants[['Matricule','Nom']]"
   ]
  },
  {
   "cell_type": "code",
   "execution_count": 62,
   "id": "a47a881c-9946-4ea5-ae91-b5cce6897a67",
   "metadata": {},
   "outputs": [
    {
     "data": {
      "text/plain": [
       "Matricule    2022020058\n",
       "Nom             KASONGO\n",
       "Prenom             phil\n",
       "Age                  20\n",
       "GPA                   C\n",
       "Name: 2, dtype: object"
      ]
     },
     "execution_count": 62,
     "metadata": {},
     "output_type": "execute_result"
    }
   ],
   "source": [
    "donnees_etudiants.iloc[2]"
   ]
  },
  {
   "cell_type": "code",
   "execution_count": 64,
   "id": "47daa6cf-0f31-4e35-b592-95d07f4fdbb5",
   "metadata": {},
   "outputs": [
    {
     "data": {
      "text/html": [
       "<div>\n",
       "<style scoped>\n",
       "    .dataframe tbody tr th:only-of-type {\n",
       "        vertical-align: middle;\n",
       "    }\n",
       "\n",
       "    .dataframe tbody tr th {\n",
       "        vertical-align: top;\n",
       "    }\n",
       "\n",
       "    .dataframe thead th {\n",
       "        text-align: right;\n",
       "    }\n",
       "</style>\n",
       "<table border=\"1\" class=\"dataframe\">\n",
       "  <thead>\n",
       "    <tr style=\"text-align: right;\">\n",
       "      <th></th>\n",
       "      <th>Matricule</th>\n",
       "      <th>Nom</th>\n",
       "      <th>Prenom</th>\n",
       "      <th>Age</th>\n",
       "      <th>GPA</th>\n",
       "    </tr>\n",
       "  </thead>\n",
       "  <tbody>\n",
       "    <tr>\n",
       "      <th>0</th>\n",
       "      <td>2022020056</td>\n",
       "      <td>MWANZA</td>\n",
       "      <td>jean paul</td>\n",
       "      <td>23</td>\n",
       "      <td>A</td>\n",
       "    </tr>\n",
       "    <tr>\n",
       "      <th>1</th>\n",
       "      <td>2022020057</td>\n",
       "      <td>KIMBA</td>\n",
       "      <td>paul</td>\n",
       "      <td>25</td>\n",
       "      <td>B</td>\n",
       "    </tr>\n",
       "    <tr>\n",
       "      <th>2</th>\n",
       "      <td>2022020058</td>\n",
       "      <td>KASONGO</td>\n",
       "      <td>phil</td>\n",
       "      <td>20</td>\n",
       "      <td>C</td>\n",
       "    </tr>\n",
       "    <tr>\n",
       "      <th>3</th>\n",
       "      <td>2022020059</td>\n",
       "      <td>ILUNGA</td>\n",
       "      <td>theo</td>\n",
       "      <td>23</td>\n",
       "      <td>A</td>\n",
       "    </tr>\n",
       "    <tr>\n",
       "      <th>4</th>\n",
       "      <td>2022020060</td>\n",
       "      <td>MARIE</td>\n",
       "      <td>marie</td>\n",
       "      <td>24</td>\n",
       "      <td>C</td>\n",
       "    </tr>\n",
       "    <tr>\n",
       "      <th>5</th>\n",
       "      <td>2022020061</td>\n",
       "      <td>TUMBA</td>\n",
       "      <td>plamedie</td>\n",
       "      <td>21</td>\n",
       "      <td>A</td>\n",
       "    </tr>\n",
       "    <tr>\n",
       "      <th>6</th>\n",
       "      <td>2022020062</td>\n",
       "      <td>KASAJI</td>\n",
       "      <td>laure</td>\n",
       "      <td>22</td>\n",
       "      <td>A</td>\n",
       "    </tr>\n",
       "    <tr>\n",
       "      <th>7</th>\n",
       "      <td>2022020063</td>\n",
       "      <td>MANYONGA</td>\n",
       "      <td>tantine</td>\n",
       "      <td>20</td>\n",
       "      <td>C</td>\n",
       "    </tr>\n",
       "    <tr>\n",
       "      <th>8</th>\n",
       "      <td>2022020063</td>\n",
       "      <td>MWETSHENU</td>\n",
       "      <td>grace</td>\n",
       "      <td>21</td>\n",
       "      <td>B</td>\n",
       "    </tr>\n",
       "    <tr>\n",
       "      <th>9</th>\n",
       "      <td>2022020064</td>\n",
       "      <td>MWANDA</td>\n",
       "      <td>marline</td>\n",
       "      <td>23</td>\n",
       "      <td>A</td>\n",
       "    </tr>\n",
       "  </tbody>\n",
       "</table>\n",
       "</div>"
      ],
      "text/plain": [
       "    Matricule        Nom     Prenom  Age GPA\n",
       "0  2022020056     MWANZA  jean paul   23   A\n",
       "1  2022020057      KIMBA       paul   25   B\n",
       "2  2022020058    KASONGO       phil   20   C\n",
       "3  2022020059     ILUNGA       theo   23   A\n",
       "4  2022020060      MARIE      marie   24   C\n",
       "5  2022020061      TUMBA   plamedie   21   A\n",
       "6  2022020062     KASAJI      laure   22   A\n",
       "7  2022020063   MANYONGA    tantine   20   C\n",
       "8  2022020063  MWETSHENU      grace   21   B\n",
       "9  2022020064     MWANDA    marline   23   A"
      ]
     },
     "execution_count": 64,
     "metadata": {},
     "output_type": "execute_result"
    }
   ],
   "source": [
    "donnees_etudiants.iloc[:,:]"
   ]
  },
  {
   "cell_type": "code",
   "execution_count": 66,
   "id": "27841d86-47a2-449c-b6f9-6e102bb9a7b1",
   "metadata": {},
   "outputs": [
    {
     "data": {
      "text/html": [
       "<div>\n",
       "<style scoped>\n",
       "    .dataframe tbody tr th:only-of-type {\n",
       "        vertical-align: middle;\n",
       "    }\n",
       "\n",
       "    .dataframe tbody tr th {\n",
       "        vertical-align: top;\n",
       "    }\n",
       "\n",
       "    .dataframe thead th {\n",
       "        text-align: right;\n",
       "    }\n",
       "</style>\n",
       "<table border=\"1\" class=\"dataframe\">\n",
       "  <thead>\n",
       "    <tr style=\"text-align: right;\">\n",
       "      <th></th>\n",
       "      <th>Matricule</th>\n",
       "      <th>Nom</th>\n",
       "      <th>Prenom</th>\n",
       "      <th>Age</th>\n",
       "      <th>GPA</th>\n",
       "    </tr>\n",
       "  </thead>\n",
       "  <tbody>\n",
       "    <tr>\n",
       "      <th>2</th>\n",
       "      <td>2022020058</td>\n",
       "      <td>KASONGO</td>\n",
       "      <td>phil</td>\n",
       "      <td>20</td>\n",
       "      <td>C</td>\n",
       "    </tr>\n",
       "  </tbody>\n",
       "</table>\n",
       "</div>"
      ],
      "text/plain": [
       "    Matricule      Nom Prenom  Age GPA\n",
       "2  2022020058  KASONGO   phil   20   C"
      ]
     },
     "execution_count": 66,
     "metadata": {},
     "output_type": "execute_result"
    }
   ],
   "source": [
    "donnees_etudiants.iloc[2:3,:]"
   ]
  },
  {
   "cell_type": "code",
   "execution_count": 67,
   "id": "9cf05ad2-75fa-480d-866b-7d237d7fa170",
   "metadata": {},
   "outputs": [
    {
     "data": {
      "text/html": [
       "<div>\n",
       "<style scoped>\n",
       "    .dataframe tbody tr th:only-of-type {\n",
       "        vertical-align: middle;\n",
       "    }\n",
       "\n",
       "    .dataframe tbody tr th {\n",
       "        vertical-align: top;\n",
       "    }\n",
       "\n",
       "    .dataframe thead th {\n",
       "        text-align: right;\n",
       "    }\n",
       "</style>\n",
       "<table border=\"1\" class=\"dataframe\">\n",
       "  <thead>\n",
       "    <tr style=\"text-align: right;\">\n",
       "      <th></th>\n",
       "      <th>Age</th>\n",
       "    </tr>\n",
       "  </thead>\n",
       "  <tbody>\n",
       "    <tr>\n",
       "      <th>0</th>\n",
       "      <td>23</td>\n",
       "    </tr>\n",
       "    <tr>\n",
       "      <th>1</th>\n",
       "      <td>25</td>\n",
       "    </tr>\n",
       "    <tr>\n",
       "      <th>2</th>\n",
       "      <td>20</td>\n",
       "    </tr>\n",
       "    <tr>\n",
       "      <th>3</th>\n",
       "      <td>23</td>\n",
       "    </tr>\n",
       "    <tr>\n",
       "      <th>4</th>\n",
       "      <td>24</td>\n",
       "    </tr>\n",
       "    <tr>\n",
       "      <th>5</th>\n",
       "      <td>21</td>\n",
       "    </tr>\n",
       "    <tr>\n",
       "      <th>6</th>\n",
       "      <td>22</td>\n",
       "    </tr>\n",
       "    <tr>\n",
       "      <th>7</th>\n",
       "      <td>20</td>\n",
       "    </tr>\n",
       "    <tr>\n",
       "      <th>8</th>\n",
       "      <td>21</td>\n",
       "    </tr>\n",
       "    <tr>\n",
       "      <th>9</th>\n",
       "      <td>23</td>\n",
       "    </tr>\n",
       "  </tbody>\n",
       "</table>\n",
       "</div>"
      ],
      "text/plain": [
       "   Age\n",
       "0   23\n",
       "1   25\n",
       "2   20\n",
       "3   23\n",
       "4   24\n",
       "5   21\n",
       "6   22\n",
       "7   20\n",
       "8   21\n",
       "9   23"
      ]
     },
     "execution_count": 67,
     "metadata": {},
     "output_type": "execute_result"
    }
   ],
   "source": [
    "donnees_etudiants.iloc[:,3:4]"
   ]
  },
  {
   "cell_type": "code",
   "execution_count": 68,
   "id": "60e2e235-2ef8-4969-8526-96e5f28e6d79",
   "metadata": {},
   "outputs": [
    {
     "data": {
      "text/html": [
       "<div>\n",
       "<style scoped>\n",
       "    .dataframe tbody tr th:only-of-type {\n",
       "        vertical-align: middle;\n",
       "    }\n",
       "\n",
       "    .dataframe tbody tr th {\n",
       "        vertical-align: top;\n",
       "    }\n",
       "\n",
       "    .dataframe thead th {\n",
       "        text-align: right;\n",
       "    }\n",
       "</style>\n",
       "<table border=\"1\" class=\"dataframe\">\n",
       "  <thead>\n",
       "    <tr style=\"text-align: right;\">\n",
       "      <th></th>\n",
       "      <th>Nom</th>\n",
       "    </tr>\n",
       "  </thead>\n",
       "  <tbody>\n",
       "    <tr>\n",
       "      <th>1</th>\n",
       "      <td>KIMBA</td>\n",
       "    </tr>\n",
       "  </tbody>\n",
       "</table>\n",
       "</div>"
      ],
      "text/plain": [
       "     Nom\n",
       "1  KIMBA"
      ]
     },
     "execution_count": 68,
     "metadata": {},
     "output_type": "execute_result"
    }
   ],
   "source": [
    "donnees_etudiants.iloc[1:2,1:2]"
   ]
  },
  {
   "cell_type": "code",
   "execution_count": 69,
   "id": "bccb9ea4-9dd5-49ec-88ab-671d67aac1e9",
   "metadata": {},
   "outputs": [],
   "source": [
    "#ajouter les colonnes\n",
    "donnees_etudiants['Genre'] = ['M', 'M', 'M', 'M', 'F','F','F','F','M', 'F']\n",
    "donnees_etudiants['pourcentage'] = [60, 70, 65, 56, 71, 57, 80, 67, 65, 73]d"
   ]
  },
  {
   "cell_type": "code",
   "execution_count": 70,
   "id": "7c1fd70c-912a-4c5b-9449-15f2e3cbd22b",
   "metadata": {},
   "outputs": [
    {
     "data": {
      "text/html": [
       "<div>\n",
       "<style scoped>\n",
       "    .dataframe tbody tr th:only-of-type {\n",
       "        vertical-align: middle;\n",
       "    }\n",
       "\n",
       "    .dataframe tbody tr th {\n",
       "        vertical-align: top;\n",
       "    }\n",
       "\n",
       "    .dataframe thead th {\n",
       "        text-align: right;\n",
       "    }\n",
       "</style>\n",
       "<table border=\"1\" class=\"dataframe\">\n",
       "  <thead>\n",
       "    <tr style=\"text-align: right;\">\n",
       "      <th></th>\n",
       "      <th>Matricule</th>\n",
       "      <th>Nom</th>\n",
       "      <th>Prenom</th>\n",
       "      <th>Age</th>\n",
       "      <th>GPA</th>\n",
       "      <th>Genre</th>\n",
       "      <th>pourcentage</th>\n",
       "    </tr>\n",
       "  </thead>\n",
       "  <tbody>\n",
       "    <tr>\n",
       "      <th>0</th>\n",
       "      <td>2022020056</td>\n",
       "      <td>MWANZA</td>\n",
       "      <td>jean paul</td>\n",
       "      <td>23</td>\n",
       "      <td>A</td>\n",
       "      <td>M</td>\n",
       "      <td>60</td>\n",
       "    </tr>\n",
       "    <tr>\n",
       "      <th>1</th>\n",
       "      <td>2022020057</td>\n",
       "      <td>KIMBA</td>\n",
       "      <td>paul</td>\n",
       "      <td>25</td>\n",
       "      <td>B</td>\n",
       "      <td>M</td>\n",
       "      <td>70</td>\n",
       "    </tr>\n",
       "    <tr>\n",
       "      <th>2</th>\n",
       "      <td>2022020058</td>\n",
       "      <td>KASONGO</td>\n",
       "      <td>phil</td>\n",
       "      <td>20</td>\n",
       "      <td>C</td>\n",
       "      <td>M</td>\n",
       "      <td>65</td>\n",
       "    </tr>\n",
       "    <tr>\n",
       "      <th>3</th>\n",
       "      <td>2022020059</td>\n",
       "      <td>ILUNGA</td>\n",
       "      <td>theo</td>\n",
       "      <td>23</td>\n",
       "      <td>A</td>\n",
       "      <td>M</td>\n",
       "      <td>56</td>\n",
       "    </tr>\n",
       "    <tr>\n",
       "      <th>4</th>\n",
       "      <td>2022020060</td>\n",
       "      <td>MARIE</td>\n",
       "      <td>marie</td>\n",
       "      <td>24</td>\n",
       "      <td>C</td>\n",
       "      <td>F</td>\n",
       "      <td>71</td>\n",
       "    </tr>\n",
       "    <tr>\n",
       "      <th>5</th>\n",
       "      <td>2022020061</td>\n",
       "      <td>TUMBA</td>\n",
       "      <td>plamedie</td>\n",
       "      <td>21</td>\n",
       "      <td>A</td>\n",
       "      <td>F</td>\n",
       "      <td>57</td>\n",
       "    </tr>\n",
       "    <tr>\n",
       "      <th>6</th>\n",
       "      <td>2022020062</td>\n",
       "      <td>KASAJI</td>\n",
       "      <td>laure</td>\n",
       "      <td>22</td>\n",
       "      <td>A</td>\n",
       "      <td>F</td>\n",
       "      <td>80</td>\n",
       "    </tr>\n",
       "    <tr>\n",
       "      <th>7</th>\n",
       "      <td>2022020063</td>\n",
       "      <td>MANYONGA</td>\n",
       "      <td>tantine</td>\n",
       "      <td>20</td>\n",
       "      <td>C</td>\n",
       "      <td>F</td>\n",
       "      <td>67</td>\n",
       "    </tr>\n",
       "    <tr>\n",
       "      <th>8</th>\n",
       "      <td>2022020063</td>\n",
       "      <td>MWETSHENU</td>\n",
       "      <td>grace</td>\n",
       "      <td>21</td>\n",
       "      <td>B</td>\n",
       "      <td>M</td>\n",
       "      <td>65</td>\n",
       "    </tr>\n",
       "    <tr>\n",
       "      <th>9</th>\n",
       "      <td>2022020064</td>\n",
       "      <td>MWANDA</td>\n",
       "      <td>marline</td>\n",
       "      <td>23</td>\n",
       "      <td>A</td>\n",
       "      <td>F</td>\n",
       "      <td>73</td>\n",
       "    </tr>\n",
       "  </tbody>\n",
       "</table>\n",
       "</div>"
      ],
      "text/plain": [
       "    Matricule        Nom     Prenom  Age GPA Genre  pourcentage\n",
       "0  2022020056     MWANZA  jean paul   23   A     M           60\n",
       "1  2022020057      KIMBA       paul   25   B     M           70\n",
       "2  2022020058    KASONGO       phil   20   C     M           65\n",
       "3  2022020059     ILUNGA       theo   23   A     M           56\n",
       "4  2022020060      MARIE      marie   24   C     F           71\n",
       "5  2022020061      TUMBA   plamedie   21   A     F           57\n",
       "6  2022020062     KASAJI      laure   22   A     F           80\n",
       "7  2022020063   MANYONGA    tantine   20   C     F           67\n",
       "8  2022020063  MWETSHENU      grace   21   B     M           65\n",
       "9  2022020064     MWANDA    marline   23   A     F           73"
      ]
     },
     "execution_count": 70,
     "metadata": {},
     "output_type": "execute_result"
    }
   ],
   "source": [
    "donnees_etudiants"
   ]
  },
  {
   "cell_type": "code",
   "execution_count": 73,
   "id": "4bbbfa4c-0d3c-494b-93bf-eb547d584beb",
   "metadata": {},
   "outputs": [],
   "source": [
    "#suprimer la colonne GPA\n",
    "donnees_etudiants.drop(columns='GPA', inplace=True, axis=1)"
   ]
  },
  {
   "cell_type": "code",
   "execution_count": 74,
   "id": "844cd843-41b2-4022-ba9e-72d0423e0145",
   "metadata": {},
   "outputs": [
    {
     "data": {
      "text/html": [
       "<div>\n",
       "<style scoped>\n",
       "    .dataframe tbody tr th:only-of-type {\n",
       "        vertical-align: middle;\n",
       "    }\n",
       "\n",
       "    .dataframe tbody tr th {\n",
       "        vertical-align: top;\n",
       "    }\n",
       "\n",
       "    .dataframe thead th {\n",
       "        text-align: right;\n",
       "    }\n",
       "</style>\n",
       "<table border=\"1\" class=\"dataframe\">\n",
       "  <thead>\n",
       "    <tr style=\"text-align: right;\">\n",
       "      <th></th>\n",
       "      <th>Matricule</th>\n",
       "      <th>Nom</th>\n",
       "      <th>Prenom</th>\n",
       "      <th>Age</th>\n",
       "      <th>Genre</th>\n",
       "      <th>pourcentage</th>\n",
       "    </tr>\n",
       "  </thead>\n",
       "  <tbody>\n",
       "    <tr>\n",
       "      <th>0</th>\n",
       "      <td>2022020056</td>\n",
       "      <td>MWANZA</td>\n",
       "      <td>jean paul</td>\n",
       "      <td>23</td>\n",
       "      <td>M</td>\n",
       "      <td>60</td>\n",
       "    </tr>\n",
       "    <tr>\n",
       "      <th>1</th>\n",
       "      <td>2022020057</td>\n",
       "      <td>KIMBA</td>\n",
       "      <td>paul</td>\n",
       "      <td>25</td>\n",
       "      <td>M</td>\n",
       "      <td>70</td>\n",
       "    </tr>\n",
       "    <tr>\n",
       "      <th>2</th>\n",
       "      <td>2022020058</td>\n",
       "      <td>KASONGO</td>\n",
       "      <td>phil</td>\n",
       "      <td>20</td>\n",
       "      <td>M</td>\n",
       "      <td>65</td>\n",
       "    </tr>\n",
       "    <tr>\n",
       "      <th>3</th>\n",
       "      <td>2022020059</td>\n",
       "      <td>ILUNGA</td>\n",
       "      <td>theo</td>\n",
       "      <td>23</td>\n",
       "      <td>M</td>\n",
       "      <td>56</td>\n",
       "    </tr>\n",
       "    <tr>\n",
       "      <th>4</th>\n",
       "      <td>2022020060</td>\n",
       "      <td>MARIE</td>\n",
       "      <td>marie</td>\n",
       "      <td>24</td>\n",
       "      <td>F</td>\n",
       "      <td>71</td>\n",
       "    </tr>\n",
       "    <tr>\n",
       "      <th>5</th>\n",
       "      <td>2022020061</td>\n",
       "      <td>TUMBA</td>\n",
       "      <td>plamedie</td>\n",
       "      <td>21</td>\n",
       "      <td>F</td>\n",
       "      <td>57</td>\n",
       "    </tr>\n",
       "    <tr>\n",
       "      <th>6</th>\n",
       "      <td>2022020062</td>\n",
       "      <td>KASAJI</td>\n",
       "      <td>laure</td>\n",
       "      <td>22</td>\n",
       "      <td>F</td>\n",
       "      <td>80</td>\n",
       "    </tr>\n",
       "    <tr>\n",
       "      <th>7</th>\n",
       "      <td>2022020063</td>\n",
       "      <td>MANYONGA</td>\n",
       "      <td>tantine</td>\n",
       "      <td>20</td>\n",
       "      <td>F</td>\n",
       "      <td>67</td>\n",
       "    </tr>\n",
       "    <tr>\n",
       "      <th>8</th>\n",
       "      <td>2022020063</td>\n",
       "      <td>MWETSHENU</td>\n",
       "      <td>grace</td>\n",
       "      <td>21</td>\n",
       "      <td>M</td>\n",
       "      <td>65</td>\n",
       "    </tr>\n",
       "    <tr>\n",
       "      <th>9</th>\n",
       "      <td>2022020064</td>\n",
       "      <td>MWANDA</td>\n",
       "      <td>marline</td>\n",
       "      <td>23</td>\n",
       "      <td>F</td>\n",
       "      <td>73</td>\n",
       "    </tr>\n",
       "  </tbody>\n",
       "</table>\n",
       "</div>"
      ],
      "text/plain": [
       "    Matricule        Nom     Prenom  Age Genre  pourcentage\n",
       "0  2022020056     MWANZA  jean paul   23     M           60\n",
       "1  2022020057      KIMBA       paul   25     M           70\n",
       "2  2022020058    KASONGO       phil   20     M           65\n",
       "3  2022020059     ILUNGA       theo   23     M           56\n",
       "4  2022020060      MARIE      marie   24     F           71\n",
       "5  2022020061      TUMBA   plamedie   21     F           57\n",
       "6  2022020062     KASAJI      laure   22     F           80\n",
       "7  2022020063   MANYONGA    tantine   20     F           67\n",
       "8  2022020063  MWETSHENU      grace   21     M           65\n",
       "9  2022020064     MWANDA    marline   23     F           73"
      ]
     },
     "execution_count": 74,
     "metadata": {},
     "output_type": "execute_result"
    }
   ],
   "source": [
    "donnees_etudiants"
   ]
  },
  {
   "cell_type": "code",
   "execution_count": 77,
   "id": "7e73e968-d971-41d9-aaa2-9a9c12e80307",
   "metadata": {},
   "outputs": [],
   "source": [
    "#convertir la colonne Genre en M = 1 et F = 0\n",
    "#mapping de la colonne Genre \n",
    "Mapping_Genre = {\n",
    "'M' : 1,\n",
    "'F' : 0\n",
    "}\n",
    "donnees_etudiants['Genre'] = donnees_etudiants['Genre'].map(Mapping_Genre)"
   ]
  },
  {
   "cell_type": "code",
   "execution_count": 78,
   "id": "803a0b17-e168-4490-99f7-63d472aae591",
   "metadata": {},
   "outputs": [
    {
     "data": {
      "text/html": [
       "<div>\n",
       "<style scoped>\n",
       "    .dataframe tbody tr th:only-of-type {\n",
       "        vertical-align: middle;\n",
       "    }\n",
       "\n",
       "    .dataframe tbody tr th {\n",
       "        vertical-align: top;\n",
       "    }\n",
       "\n",
       "    .dataframe thead th {\n",
       "        text-align: right;\n",
       "    }\n",
       "</style>\n",
       "<table border=\"1\" class=\"dataframe\">\n",
       "  <thead>\n",
       "    <tr style=\"text-align: right;\">\n",
       "      <th></th>\n",
       "      <th>Matricule</th>\n",
       "      <th>Nom</th>\n",
       "      <th>Prenom</th>\n",
       "      <th>Age</th>\n",
       "      <th>Genre</th>\n",
       "      <th>pourcentage</th>\n",
       "    </tr>\n",
       "  </thead>\n",
       "  <tbody>\n",
       "    <tr>\n",
       "      <th>0</th>\n",
       "      <td>2022020056</td>\n",
       "      <td>MWANZA</td>\n",
       "      <td>jean paul</td>\n",
       "      <td>23</td>\n",
       "      <td>1</td>\n",
       "      <td>60</td>\n",
       "    </tr>\n",
       "    <tr>\n",
       "      <th>1</th>\n",
       "      <td>2022020057</td>\n",
       "      <td>KIMBA</td>\n",
       "      <td>paul</td>\n",
       "      <td>25</td>\n",
       "      <td>1</td>\n",
       "      <td>70</td>\n",
       "    </tr>\n",
       "    <tr>\n",
       "      <th>2</th>\n",
       "      <td>2022020058</td>\n",
       "      <td>KASONGO</td>\n",
       "      <td>phil</td>\n",
       "      <td>20</td>\n",
       "      <td>1</td>\n",
       "      <td>65</td>\n",
       "    </tr>\n",
       "    <tr>\n",
       "      <th>3</th>\n",
       "      <td>2022020059</td>\n",
       "      <td>ILUNGA</td>\n",
       "      <td>theo</td>\n",
       "      <td>23</td>\n",
       "      <td>1</td>\n",
       "      <td>56</td>\n",
       "    </tr>\n",
       "    <tr>\n",
       "      <th>4</th>\n",
       "      <td>2022020060</td>\n",
       "      <td>MARIE</td>\n",
       "      <td>marie</td>\n",
       "      <td>24</td>\n",
       "      <td>0</td>\n",
       "      <td>71</td>\n",
       "    </tr>\n",
       "    <tr>\n",
       "      <th>5</th>\n",
       "      <td>2022020061</td>\n",
       "      <td>TUMBA</td>\n",
       "      <td>plamedie</td>\n",
       "      <td>21</td>\n",
       "      <td>0</td>\n",
       "      <td>57</td>\n",
       "    </tr>\n",
       "    <tr>\n",
       "      <th>6</th>\n",
       "      <td>2022020062</td>\n",
       "      <td>KASAJI</td>\n",
       "      <td>laure</td>\n",
       "      <td>22</td>\n",
       "      <td>0</td>\n",
       "      <td>80</td>\n",
       "    </tr>\n",
       "    <tr>\n",
       "      <th>7</th>\n",
       "      <td>2022020063</td>\n",
       "      <td>MANYONGA</td>\n",
       "      <td>tantine</td>\n",
       "      <td>20</td>\n",
       "      <td>0</td>\n",
       "      <td>67</td>\n",
       "    </tr>\n",
       "    <tr>\n",
       "      <th>8</th>\n",
       "      <td>2022020063</td>\n",
       "      <td>MWETSHENU</td>\n",
       "      <td>grace</td>\n",
       "      <td>21</td>\n",
       "      <td>1</td>\n",
       "      <td>65</td>\n",
       "    </tr>\n",
       "    <tr>\n",
       "      <th>9</th>\n",
       "      <td>2022020064</td>\n",
       "      <td>MWANDA</td>\n",
       "      <td>marline</td>\n",
       "      <td>23</td>\n",
       "      <td>0</td>\n",
       "      <td>73</td>\n",
       "    </tr>\n",
       "  </tbody>\n",
       "</table>\n",
       "</div>"
      ],
      "text/plain": [
       "    Matricule        Nom     Prenom  Age  Genre  pourcentage\n",
       "0  2022020056     MWANZA  jean paul   23      1           60\n",
       "1  2022020057      KIMBA       paul   25      1           70\n",
       "2  2022020058    KASONGO       phil   20      1           65\n",
       "3  2022020059     ILUNGA       theo   23      1           56\n",
       "4  2022020060      MARIE      marie   24      0           71\n",
       "5  2022020061      TUMBA   plamedie   21      0           57\n",
       "6  2022020062     KASAJI      laure   22      0           80\n",
       "7  2022020063   MANYONGA    tantine   20      0           67\n",
       "8  2022020063  MWETSHENU      grace   21      1           65\n",
       "9  2022020064     MWANDA    marline   23      0           73"
      ]
     },
     "execution_count": 78,
     "metadata": {},
     "output_type": "execute_result"
    }
   ],
   "source": [
    "donnees_etudiants"
   ]
  },
  {
   "cell_type": "markdown",
   "id": "19a98243-2f6e-4617-a9d3-728240f6a9a8",
   "metadata": {},
   "source": [
    "# D. VISUALISTION DES DONNEES"
   ]
  },
  {
   "cell_type": "code",
   "execution_count": 80,
   "id": "2e86e422-23b9-418f-8f1e-6725e16fc6ea",
   "metadata": {},
   "outputs": [],
   "source": [
    "# creation de donnees \n",
    "x = np. linspace(0, 2, 50)"
   ]
  },
  {
   "cell_type": "code",
   "execution_count": 81,
   "id": "4b07c444-2c71-4e47-bf90-5b5765cfebfb",
   "metadata": {},
   "outputs": [
    {
     "data": {
      "text/plain": [
       "array([0.        , 0.04081633, 0.08163265, 0.12244898, 0.16326531,\n",
       "       0.20408163, 0.24489796, 0.28571429, 0.32653061, 0.36734694,\n",
       "       0.40816327, 0.44897959, 0.48979592, 0.53061224, 0.57142857,\n",
       "       0.6122449 , 0.65306122, 0.69387755, 0.73469388, 0.7755102 ,\n",
       "       0.81632653, 0.85714286, 0.89795918, 0.93877551, 0.97959184,\n",
       "       1.02040816, 1.06122449, 1.10204082, 1.14285714, 1.18367347,\n",
       "       1.2244898 , 1.26530612, 1.30612245, 1.34693878, 1.3877551 ,\n",
       "       1.42857143, 1.46938776, 1.51020408, 1.55102041, 1.59183673,\n",
       "       1.63265306, 1.67346939, 1.71428571, 1.75510204, 1.79591837,\n",
       "       1.83673469, 1.87755102, 1.91836735, 1.95918367, 2.        ])"
      ]
     },
     "execution_count": 81,
     "metadata": {},
     "output_type": "execute_result"
    }
   ],
   "source": [
    "x"
   ]
  },
  {
   "cell_type": "code",
   "execution_count": 82,
   "id": "78152684-30e1-4e9e-b290-393c95929baf",
   "metadata": {},
   "outputs": [],
   "source": [
    "# Importer Matplotlib\n",
    "import matplotlib. pyplot as plt"
   ]
  },
  {
   "cell_type": "code",
   "execution_count": 95,
   "id": "207e0260-910a-474e-807d-d6a87e61c9d7",
   "metadata": {},
   "outputs": [
    {
     "data": {
      "text/plain": [
       "<matplotlib.legend.Legend at 0x1f3e8653200>"
      ]
     },
     "execution_count": 95,
     "metadata": {},
     "output_type": "execute_result"
    },
    {
     "data": {
      "image/png": "[encoded data removed]",
      "text/plain": [
       "<Figure size 600x400 with 1 Axes>"
      ]
     },
     "metadata": {},
     "output_type": "display_data"
    }
   ],
   "source": [
    "fig, ax = plt.subplots(figsize=(6, 4))\n",
    "ax.plot(x, x*2, label='double')\n",
    "ax.plot(x,x**2, label='carre de x')\n",
    "ax.plot(x,x**3, label='cube de x')\n",
    "ax.set_xlabel('donnees de x')\n",
    "ax.set_ylabel('donnees de y')\n",
    "plt.title('donnees de linespace entre 0 et 2')\n",
    "ax.legend()\n",
    "\n",
    "\n"
   ]
  },
  {
   "cell_type": "code",
   "execution_count": 97,
   "id": "c435c214-0c40-4d53-af6f-b4ea2ee3cf12",
   "metadata": {},
   "outputs": [],
   "source": [
    "#importation de seaborn\n",
    "import seaborn as sns"
   ]
  },
  {
   "cell_type": "code",
   "execution_count": 98,
   "id": "3d9b8aa8-c79f-4d3b-874f-5e9623578c37",
   "metadata": {},
   "outputs": [],
   "source": [
    "iris_data=sns. load_dataset('iris')"
   ]
  },
  {
   "cell_type": "code",
   "execution_count": 99,
   "id": "504120ea-6ce2-40bd-ac7b-9eaa912188e3",
   "metadata": {},
   "outputs": [
    {
     "data": {
      "text/html": [
       "<div>\n",
       "<style scoped>\n",
       "    .dataframe tbody tr th:only-of-type {\n",
       "        vertical-align: middle;\n",
       "    }\n",
       "\n",
       "    .dataframe tbody tr th {\n",
       "        vertical-align: top;\n",
       "    }\n",
       "\n",
       "    .dataframe thead th {\n",
       "        text-align: right;\n",
       "    }\n",
       "</style>\n",
       "<table border=\"1\" class=\"dataframe\">\n",
       "  <thead>\n",
       "    <tr style=\"text-align: right;\">\n",
       "      <th></th>\n",
       "      <th>sepal_length</th>\n",
       "      <th>sepal_width</th>\n",
       "      <th>petal_length</th>\n",
       "      <th>petal_width</th>\n",
       "      <th>species</th>\n",
       "    </tr>\n",
       "  </thead>\n",
       "  <tbody>\n",
       "    <tr>\n",
       "      <th>0</th>\n",
       "      <td>5.1</td>\n",
       "      <td>3.5</td>\n",
       "      <td>1.4</td>\n",
       "      <td>0.2</td>\n",
       "      <td>setosa</td>\n",
       "    </tr>\n",
       "    <tr>\n",
       "      <th>1</th>\n",
       "      <td>4.9</td>\n",
       "      <td>3.0</td>\n",
       "      <td>1.4</td>\n",
       "      <td>0.2</td>\n",
       "      <td>setosa</td>\n",
       "    </tr>\n",
       "    <tr>\n",
       "      <th>2</th>\n",
       "      <td>4.7</td>\n",
       "      <td>3.2</td>\n",
       "      <td>1.3</td>\n",
       "      <td>0.2</td>\n",
       "      <td>setosa</td>\n",
       "    </tr>\n",
       "    <tr>\n",
       "      <th>3</th>\n",
       "      <td>4.6</td>\n",
       "      <td>3.1</td>\n",
       "      <td>1.5</td>\n",
       "      <td>0.2</td>\n",
       "      <td>setosa</td>\n",
       "    </tr>\n",
       "    <tr>\n",
       "      <th>4</th>\n",
       "      <td>5.0</td>\n",
       "      <td>3.6</td>\n",
       "      <td>1.4</td>\n",
       "      <td>0.2</td>\n",
       "      <td>setosa</td>\n",
       "    </tr>\n",
       "  </tbody>\n",
       "</table>\n",
       "</div>"
      ],
      "text/plain": [
       "   sepal_length  sepal_width  petal_length  petal_width species\n",
       "0           5.1          3.5           1.4          0.2  setosa\n",
       "1           4.9          3.0           1.4          0.2  setosa\n",
       "2           4.7          3.2           1.3          0.2  setosa\n",
       "3           4.6          3.1           1.5          0.2  setosa\n",
       "4           5.0          3.6           1.4          0.2  setosa"
      ]
     },
     "execution_count": 99,
     "metadata": {},
     "output_type": "execute_result"
    }
   ],
   "source": [
    "iris_data.head()"
   ]
  },
  {
   "cell_type": "code",
   "execution_count": 100,
   "id": "d370590d-68b9-4a1c-8fcc-3e499f0cd821",
   "metadata": {},
   "outputs": [
    {
     "data": {
      "text/plain": [
       "(150, 5)"
      ]
     },
     "execution_count": 100,
     "metadata": {},
     "output_type": "execute_result"
    }
   ],
   "source": [
    "iris_data.shape"
   ]
  },
  {
   "cell_type": "code",
   "execution_count": 101,
   "id": "4f299fc7-d023-4cd2-a1d2-b44f98ab19c8",
   "metadata": {},
   "outputs": [
    {
     "data": {
      "text/plain": [
       "array(['setosa', 'versicolor', 'virginica'], dtype=object)"
      ]
     },
     "execution_count": 101,
     "metadata": {},
     "output_type": "execute_result"
    }
   ],
   "source": [
    "iris_data['species'].unique()"
   ]
  },
  {
   "cell_type": "code",
   "execution_count": 103,
   "id": "bd28361e-4b0d-4761-a2ec-ca1f48e34388",
   "metadata": {},
   "outputs": [
    {
     "data": {
      "text/plain": [
       "<Axes: xlabel='sepal_length', ylabel='sepal_width'>"
      ]
     },
     "execution_count": 103,
     "metadata": {},
     "output_type": "execute_result"
    },
    {
     "data": {
      "image/png": "[encoded data removed]",
      "text/plain": [
       "<Figure size 640x480 with 1 Axes>"
      ]
     },
     "metadata": {},
     "output_type": "display_data"
    }
   ],
   "source": [
    "sns.scatterplot(x='sepal_length', y='sepal_width', data=iris_data, hue='species')"
   ]
  },
  {
   "cell_type": "code",
   "execution_count": null,
   "id": "2fce9627-8748-46a7-aa4d-6d70614293e3",
   "metadata": {},
   "outputs": [],
   "source": [
    "iris_data"
   ]
  },
  {
   "cell_type": "code",
   "execution_count": 105,
   "id": "3afd9430-4ccf-4f97-9233-64c303038e06",
   "metadata": {},
   "outputs": [],
   "source": [
    "Mapping_species = {\n",
    "    'setosa' : 0,\n",
    "    'versicolor' : 1,\n",
    "    'virginica' : 2\n",
    "}\n",
    "iris_data['species'] = iris_data['species'].map(Mapping_species)"
   ]
  },
  {
   "cell_type": "code",
   "execution_count": 106,
   "id": "362de3e4-b13b-451b-b9be-c372268abd3b",
   "metadata": {},
   "outputs": [
    {
     "data": {
      "text/html": [
       "<div>\n",
       "<style scoped>\n",
       "    .dataframe tbody tr th:only-of-type {\n",
       "        vertical-align: middle;\n",
       "    }\n",
       "\n",
       "    .dataframe tbody tr th {\n",
       "        vertical-align: top;\n",
       "    }\n",
       "\n",
       "    .dataframe thead th {\n",
       "        text-align: right;\n",
       "    }\n",
       "</style>\n",
       "<table border=\"1\" class=\"dataframe\">\n",
       "  <thead>\n",
       "    <tr style=\"text-align: right;\">\n",
       "      <th></th>\n",
       "      <th>sepal_length</th>\n",
       "      <th>sepal_width</th>\n",
       "      <th>petal_length</th>\n",
       "      <th>petal_width</th>\n",
       "      <th>species</th>\n",
       "    </tr>\n",
       "  </thead>\n",
       "  <tbody>\n",
       "    <tr>\n",
       "      <th>0</th>\n",
       "      <td>5.1</td>\n",
       "      <td>3.5</td>\n",
       "      <td>1.4</td>\n",
       "      <td>0.2</td>\n",
       "      <td>0</td>\n",
       "    </tr>\n",
       "    <tr>\n",
       "      <th>1</th>\n",
       "      <td>4.9</td>\n",
       "      <td>3.0</td>\n",
       "      <td>1.4</td>\n",
       "      <td>0.2</td>\n",
       "      <td>0</td>\n",
       "    </tr>\n",
       "    <tr>\n",
       "      <th>2</th>\n",
       "      <td>4.7</td>\n",
       "      <td>3.2</td>\n",
       "      <td>1.3</td>\n",
       "      <td>0.2</td>\n",
       "      <td>0</td>\n",
       "    </tr>\n",
       "    <tr>\n",
       "      <th>3</th>\n",
       "      <td>4.6</td>\n",
       "      <td>3.1</td>\n",
       "      <td>1.5</td>\n",
       "      <td>0.2</td>\n",
       "      <td>0</td>\n",
       "    </tr>\n",
       "    <tr>\n",
       "      <th>4</th>\n",
       "      <td>5.0</td>\n",
       "      <td>3.6</td>\n",
       "      <td>1.4</td>\n",
       "      <td>0.2</td>\n",
       "      <td>0</td>\n",
       "    </tr>\n",
       "    <tr>\n",
       "      <th>...</th>\n",
       "      <td>...</td>\n",
       "      <td>...</td>\n",
       "      <td>...</td>\n",
       "      <td>...</td>\n",
       "      <td>...</td>\n",
       "    </tr>\n",
       "    <tr>\n",
       "      <th>145</th>\n",
       "      <td>6.7</td>\n",
       "      <td>3.0</td>\n",
       "      <td>5.2</td>\n",
       "      <td>2.3</td>\n",
       "      <td>2</td>\n",
       "    </tr>\n",
       "    <tr>\n",
       "      <th>146</th>\n",
       "      <td>6.3</td>\n",
       "      <td>2.5</td>\n",
       "      <td>5.0</td>\n",
       "      <td>1.9</td>\n",
       "      <td>2</td>\n",
       "    </tr>\n",
       "    <tr>\n",
       "      <th>147</th>\n",
       "      <td>6.5</td>\n",
       "      <td>3.0</td>\n",
       "      <td>5.2</td>\n",
       "      <td>2.0</td>\n",
       "      <td>2</td>\n",
       "    </tr>\n",
       "    <tr>\n",
       "      <th>148</th>\n",
       "      <td>6.2</td>\n",
       "      <td>3.4</td>\n",
       "      <td>5.4</td>\n",
       "      <td>2.3</td>\n",
       "      <td>2</td>\n",
       "    </tr>\n",
       "    <tr>\n",
       "      <th>149</th>\n",
       "      <td>5.9</td>\n",
       "      <td>3.0</td>\n",
       "      <td>5.1</td>\n",
       "      <td>1.8</td>\n",
       "      <td>2</td>\n",
       "    </tr>\n",
       "  </tbody>\n",
       "</table>\n",
       "<p>150 rows × 5 columns</p>\n",
       "</div>"
      ],
      "text/plain": [
       "     sepal_length  sepal_width  petal_length  petal_width  species\n",
       "0             5.1          3.5           1.4          0.2        0\n",
       "1             4.9          3.0           1.4          0.2        0\n",
       "2             4.7          3.2           1.3          0.2        0\n",
       "3             4.6          3.1           1.5          0.2        0\n",
       "4             5.0          3.6           1.4          0.2        0\n",
       "..            ...          ...           ...          ...      ...\n",
       "145           6.7          3.0           5.2          2.3        2\n",
       "146           6.3          2.5           5.0          1.9        2\n",
       "147           6.5          3.0           5.2          2.0        2\n",
       "148           6.2          3.4           5.4          2.3        2\n",
       "149           5.9          3.0           5.1          1.8        2\n",
       "\n",
       "[150 rows x 5 columns]"
      ]
     },
     "execution_count": 106,
     "metadata": {},
     "output_type": "execute_result"
    }
   ],
   "source": [
    "iris_data"
   ]
  },
  {
   "cell_type": "code",
   "execution_count": 107,
   "id": "c2d0caf8-9a41-47b2-80cd-c80eedfa8a2c",
   "metadata": {},
   "outputs": [
    {
     "data": {
      "text/plain": [
       "array([0, 1, 2])"
      ]
     },
     "execution_count": 107,
     "metadata": {},
     "output_type": "execute_result"
    }
   ],
   "source": [
    "iris_data['species'].unique()"
   ]
  },
  {
   "cell_type": "code",
   "execution_count": null,
   "id": "bccc6484-b763-4152-a2fc-e02d3994eeb1",
   "metadata": {},
   "outputs": [],
   "source": []
  },
  {
   "cell_type": "code",
   "execution_count": null,
   "id": "33497740-f8fd-4504-adcd-75db30cb1c8f",
   "metadata": {},
   "outputs": [],
   "source": []
  },
  {
   "cell_type": "code",
   "execution_count": null,
   "id": "e8c9eb40-c2d6-4688-afc5-218ec34e2694",
   "metadata": {},
   "outputs": [],
   "source": []
  }
 ],
 "metadata": {
  "kernelspec": {
   "display_name": "Python 3 (ipykernel)",
   "language": "python",
   "name": "python3"
  },
  "language_info": {
   "codemirror_mode": {
    "name": "ipython",
    "version": 3
   },
   "file_extension": ".py",
   "mimetype": "text/x-python",
   "name": "python",
   "nbconvert_exporter": "python",
   "pygments_lexer": "ipython3",
   "version": "3.12.8"
  }
 },
 "nbformat": 4,
 "nbformat_minor": 5
}
